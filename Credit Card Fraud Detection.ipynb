{
 "cells": [
  {
   "cell_type": "markdown",
   "metadata": {},
   "source": [
    "# European cardholders 2013(September) Transaction Data- Identify fraudulent credit card transactions\n",
    "#### By: Swati Kohli"
   ]
  },
  {
   "cell_type": "markdown",
   "metadata": {},
   "source": [
    "### Introduction\n",
    "This notebook evaluates input variables which are the result of a PCA transformation of transactions(privacy concerns) that occurred in two days. Various predictive models are used to see how accurate they are in detecting whether a transaction is a normal payment or a fraud. \n",
    "The goal is to compare 5 models, and see which gives the best performance. To be fair, evaluation is performed using the same holdout set. The five models are:\n",
    "1. Logistic Regression\n",
    "2. Decision Tree\n",
    "3. Bagged Trees\n",
    "4. Random Forest\n",
    "5. Boosted Trees\n",
    "\n",
    "The dataset is highly unbalanced due to which accuracy is not a good metric to use here. Therefore, F1-score is used for hyperparameter selection for all models. ROC curve and AUC score is also used because it is a good method to use when comparing multiple classification algorithms."
   ]
  },
  {
   "cell_type": "code",
   "execution_count": 1,
   "metadata": {},
   "outputs": [],
   "source": [
    "# Import relevant libraries \n",
    "import numpy as np\n",
    "import pandas as pd\n",
    "import numpy as np\n",
    "import matplotlib.pyplot as plt\n",
    "from sklearn.model_selection import train_test_split\n",
    "\n",
    "%matplotlib inline"
   ]
  },
  {
   "cell_type": "code",
   "execution_count": 3,
   "metadata": {},
   "outputs": [
    {
     "data": {
      "text/html": [
       "<div>\n",
       "<style scoped>\n",
       "    .dataframe tbody tr th:only-of-type {\n",
       "        vertical-align: middle;\n",
       "    }\n",
       "\n",
       "    .dataframe tbody tr th {\n",
       "        vertical-align: top;\n",
       "    }\n",
       "\n",
       "    .dataframe thead th {\n",
       "        text-align: right;\n",
       "    }\n",
       "</style>\n",
       "<table border=\"1\" class=\"dataframe\">\n",
       "  <thead>\n",
       "    <tr style=\"text-align: right;\">\n",
       "      <th></th>\n",
       "      <th>Time</th>\n",
       "      <th>V1</th>\n",
       "      <th>V2</th>\n",
       "      <th>V3</th>\n",
       "      <th>V4</th>\n",
       "      <th>V5</th>\n",
       "      <th>V6</th>\n",
       "      <th>V7</th>\n",
       "      <th>V8</th>\n",
       "      <th>V9</th>\n",
       "      <th>...</th>\n",
       "      <th>V21</th>\n",
       "      <th>V22</th>\n",
       "      <th>V23</th>\n",
       "      <th>V24</th>\n",
       "      <th>V25</th>\n",
       "      <th>V26</th>\n",
       "      <th>V27</th>\n",
       "      <th>V28</th>\n",
       "      <th>Amount</th>\n",
       "      <th>Class</th>\n",
       "    </tr>\n",
       "  </thead>\n",
       "  <tbody>\n",
       "    <tr>\n",
       "      <td>0</td>\n",
       "      <td>149938</td>\n",
       "      <td>-0.445664</td>\n",
       "      <td>0.565437</td>\n",
       "      <td>0.733374</td>\n",
       "      <td>-0.999763</td>\n",
       "      <td>1.609578</td>\n",
       "      <td>1.187041</td>\n",
       "      <td>1.452018</td>\n",
       "      <td>-0.198439</td>\n",
       "      <td>-0.048416</td>\n",
       "      <td>...</td>\n",
       "      <td>-0.195318</td>\n",
       "      <td>-0.107752</td>\n",
       "      <td>-0.100277</td>\n",
       "      <td>-0.329253</td>\n",
       "      <td>-0.375723</td>\n",
       "      <td>0.275200</td>\n",
       "      <td>-0.349132</td>\n",
       "      <td>-0.338845</td>\n",
       "      <td>50.19</td>\n",
       "      <td>0</td>\n",
       "    </tr>\n",
       "    <tr>\n",
       "      <td>1</td>\n",
       "      <td>148077</td>\n",
       "      <td>0.111788</td>\n",
       "      <td>1.124121</td>\n",
       "      <td>-0.191350</td>\n",
       "      <td>-0.443245</td>\n",
       "      <td>0.777409</td>\n",
       "      <td>-1.071823</td>\n",
       "      <td>1.068130</td>\n",
       "      <td>-0.203815</td>\n",
       "      <td>-0.246504</td>\n",
       "      <td>...</td>\n",
       "      <td>-0.297632</td>\n",
       "      <td>-0.660398</td>\n",
       "      <td>0.144101</td>\n",
       "      <td>1.072859</td>\n",
       "      <td>-0.444134</td>\n",
       "      <td>0.079985</td>\n",
       "      <td>0.229395</td>\n",
       "      <td>0.091531</td>\n",
       "      <td>5.37</td>\n",
       "      <td>0</td>\n",
       "    </tr>\n",
       "    <tr>\n",
       "      <td>2</td>\n",
       "      <td>121831</td>\n",
       "      <td>2.087566</td>\n",
       "      <td>-1.134330</td>\n",
       "      <td>-0.593377</td>\n",
       "      <td>-1.058366</td>\n",
       "      <td>-1.104703</td>\n",
       "      <td>-0.413032</td>\n",
       "      <td>-1.112383</td>\n",
       "      <td>0.110687</td>\n",
       "      <td>-0.074055</td>\n",
       "      <td>...</td>\n",
       "      <td>0.053867</td>\n",
       "      <td>-0.082683</td>\n",
       "      <td>0.328018</td>\n",
       "      <td>-0.543838</td>\n",
       "      <td>-0.593097</td>\n",
       "      <td>-0.466010</td>\n",
       "      <td>-0.010324</td>\n",
       "      <td>-0.052221</td>\n",
       "      <td>40.00</td>\n",
       "      <td>0</td>\n",
       "    </tr>\n",
       "    <tr>\n",
       "      <td>3</td>\n",
       "      <td>75683</td>\n",
       "      <td>-0.488630</td>\n",
       "      <td>1.039124</td>\n",
       "      <td>1.413263</td>\n",
       "      <td>0.110440</td>\n",
       "      <td>0.205570</td>\n",
       "      <td>-0.721798</td>\n",
       "      <td>0.677329</td>\n",
       "      <td>-0.007125</td>\n",
       "      <td>-0.568263</td>\n",
       "      <td>...</td>\n",
       "      <td>-0.189721</td>\n",
       "      <td>-0.439538</td>\n",
       "      <td>0.084214</td>\n",
       "      <td>0.374691</td>\n",
       "      <td>-0.235030</td>\n",
       "      <td>0.077754</td>\n",
       "      <td>0.262267</td>\n",
       "      <td>0.102935</td>\n",
       "      <td>12.99</td>\n",
       "      <td>0</td>\n",
       "    </tr>\n",
       "    <tr>\n",
       "      <td>4</td>\n",
       "      <td>46080</td>\n",
       "      <td>-1.018049</td>\n",
       "      <td>0.727356</td>\n",
       "      <td>1.723606</td>\n",
       "      <td>-1.409580</td>\n",
       "      <td>0.255078</td>\n",
       "      <td>-0.648925</td>\n",
       "      <td>0.807408</td>\n",
       "      <td>0.190881</td>\n",
       "      <td>-0.605563</td>\n",
       "      <td>...</td>\n",
       "      <td>-0.425400</td>\n",
       "      <td>-1.383973</td>\n",
       "      <td>0.085528</td>\n",
       "      <td>0.175845</td>\n",
       "      <td>-0.104718</td>\n",
       "      <td>0.462432</td>\n",
       "      <td>0.159748</td>\n",
       "      <td>0.099125</td>\n",
       "      <td>19.99</td>\n",
       "      <td>0</td>\n",
       "    </tr>\n",
       "  </tbody>\n",
       "</table>\n",
       "<p>5 rows × 31 columns</p>\n",
       "</div>"
      ],
      "text/plain": [
       "     Time        V1        V2        V3        V4        V5        V6  \\\n",
       "0  149938 -0.445664  0.565437  0.733374 -0.999763  1.609578  1.187041   \n",
       "1  148077  0.111788  1.124121 -0.191350 -0.443245  0.777409 -1.071823   \n",
       "2  121831  2.087566 -1.134330 -0.593377 -1.058366 -1.104703 -0.413032   \n",
       "3   75683 -0.488630  1.039124  1.413263  0.110440  0.205570 -0.721798   \n",
       "4   46080 -1.018049  0.727356  1.723606 -1.409580  0.255078 -0.648925   \n",
       "\n",
       "         V7        V8        V9  ...       V21       V22       V23       V24  \\\n",
       "0  1.452018 -0.198439 -0.048416  ... -0.195318 -0.107752 -0.100277 -0.329253   \n",
       "1  1.068130 -0.203815 -0.246504  ... -0.297632 -0.660398  0.144101  1.072859   \n",
       "2 -1.112383  0.110687 -0.074055  ...  0.053867 -0.082683  0.328018 -0.543838   \n",
       "3  0.677329 -0.007125 -0.568263  ... -0.189721 -0.439538  0.084214  0.374691   \n",
       "4  0.807408  0.190881 -0.605563  ... -0.425400 -1.383973  0.085528  0.175845   \n",
       "\n",
       "        V25       V26       V27       V28  Amount  Class  \n",
       "0 -0.375723  0.275200 -0.349132 -0.338845   50.19      0  \n",
       "1 -0.444134  0.079985  0.229395  0.091531    5.37      0  \n",
       "2 -0.593097 -0.466010 -0.010324 -0.052221   40.00      0  \n",
       "3 -0.235030  0.077754  0.262267  0.102935   12.99      0  \n",
       "4 -0.104718  0.462432  0.159748  0.099125   19.99      0  \n",
       "\n",
       "[5 rows x 31 columns]"
      ]
     },
     "execution_count": 3,
     "metadata": {},
     "output_type": "execute_result"
    }
   ],
   "source": [
    "# Load the data set\n",
    "fraud = pd.read_csv('fraud.csv')\n",
    "fraud.head()"
   ]
  },
  {
   "cell_type": "markdown",
   "metadata": {},
   "source": [
    "The data contains 31 columns. The first 30 columns are predictors and the last column (Class) is response. There are no variable names to these columns, since they are PCA transformation of an even earlier data set. For this analysis, Time column is removed.  \n"
   ]
  },
  {
   "cell_type": "code",
   "execution_count": 4,
   "metadata": {},
   "outputs": [
    {
     "data": {
      "text/plain": [
       "0    2500\n",
       "1     492\n",
       "Name: Class, dtype: int64"
      ]
     },
     "execution_count": 4,
     "metadata": {},
     "output_type": "execute_result"
    }
   ],
   "source": [
    "# Remove the Time column\n",
    "fraud.drop('Time', axis = 1, inplace = True)\n",
    "\n",
    "# Look at distribution of Class variable\n",
    "fraud.Class.value_counts()"
   ]
  },
  {
   "cell_type": "markdown",
   "metadata": {},
   "source": [
    "Let's look at the distribution of the Class variable."
   ]
  },
  {
   "cell_type": "code",
   "execution_count": 5,
   "metadata": {},
   "outputs": [],
   "source": [
    "# Separate predictors and response\n",
    "X = fraud.drop('Class', axis = 1)\n",
    "y = fraud.Class\n",
    "\n",
    "# Split data into training and holdout set. \n",
    "# Random state 1 and test size of 30%.\n",
    "X_train, X_test, y_train, y_test = train_test_split(X, y, test_size = 0.3, random_state = 1)"
   ]
  },
  {
   "cell_type": "markdown",
   "metadata": {},
   "source": [
    "Train each of the 5 models using the training set. Tuning at least one hyperparameter and using the same tuning strategy across the 5 models."
   ]
  },
  {
   "cell_type": "code",
   "execution_count": 6,
   "metadata": {},
   "outputs": [],
   "source": [
    "# Import libraries \n",
    "from sklearn.model_selection import GridSearchCV\n",
    "\n",
    "\n",
    "from sklearn.linear_model import LogisticRegression # Logistic Regression\n",
    "from sklearn.tree import DecisionTreeClassifier #Decision Tree Classifier\n",
    "from sklearn.ensemble import RandomForestClassifier # Bagging\n",
    "from sklearn.ensemble import GradientBoostingClassifier # Boosting\n",
    "\n",
    "# Tuning strategy\n",
    "from sklearn.preprocessing import StandardScaler\n",
    "from sklearn.pipeline import Pipeline\n",
    "\n",
    "from sklearn import metrics\n",
    "from sklearn.metrics import f1_score # evaluation metrics 1\n",
    "\n",
    "from sklearn.metrics import roc_curve, roc_auc_score # evaluation metrics 2\n",
    "import matplotlib.pyplot as plt\n",
    "%matplotlib inline\n",
    "\n",
    "from sklearn.metrics import confusion_matrix\n",
    "\n",
    "import time # For time evaluation"
   ]
  },
  {
   "cell_type": "markdown",
   "metadata": {},
   "source": [
    "### Approach\n",
    "Following 4 step approach for all 5 methods\n",
    "1. Instantiate\n",
    "2. Set up hyperparamters to tune (Regularization or alpha tuning for first 2 and estimator or no. of trees for next 3 methods.)\n",
    "3. Use CV gridsearch with 5 folds for all methods to find best hyperparameters. \n",
    "4. Fit the training dataset and get best hyperparameters for that model\n",
    "5. Record time taken for each method for general comparison."
   ]
  },
  {
   "cell_type": "code",
   "execution_count": 7,
   "metadata": {},
   "outputs": [
    {
     "name": "stdout",
     "output_type": "stream",
     "text": [
      "Tuning time in seconds: 100.15244936943054\n",
      "Best hyperparameters are {'clf__C': 1.0, 'clf__max_iter': 1000.0}\n"
     ]
    }
   ],
   "source": [
    "#    ******** Method 1 : Logistic Regression ******** \n",
    "# Train and tune Logistic Regression\n",
    "# Regularised Regression, Set up pipeline and grid search\n",
    "\n",
    "#from sklearn.pipeline import Pipeline\n",
    "#from sklearn.model_selection import GridSearchCV\n",
    "#from sklearn.preprocessing import StandardScaler\n",
    "#from sklearn.linear_model import LogisticRegression\n",
    "\n",
    "start = time.time() # record start time\n",
    "estimator = Pipeline( [('scale', StandardScaler()),\n",
    "                      ('clf', LogisticRegression(penalty = 'l1', \n",
    "                                                 solver = 'liblinear', \n",
    "                                                 random_state = 1000))] )\n",
    "grid_lr = {'clf__C': np.logspace(-10, 10, 21),\n",
    "       'clf__max_iter': np.linspace(1000,10000,10)}\n",
    "\n",
    "# Gridsearch CV\n",
    "clf_lr = GridSearchCV(estimator, grid_lr, cv = 5, scoring = 'f1', n_jobs = -1)\n",
    "clf_lr.fit(X_train, y_train)\n",
    "end = time.time() # record end time\n",
    "print('Tuning time in seconds:',end-start)\n",
    "\n",
    "print(\"Best hyperparameters are\",clf_lr.best_params_)"
   ]
  },
  {
   "cell_type": "code",
   "execution_count": 8,
   "metadata": {},
   "outputs": [
    {
     "name": "stdout",
     "output_type": "stream",
     "text": [
      "Tuning time in seconds: 150.25842452049255\n",
      "Refined hyperparameters are {'clf__C': 0.05722367659350217, 'clf__max_iter': 1000.0}\n"
     ]
    }
   ],
   "source": [
    "# Refine search\n",
    "\n",
    "start1 = time.time() # record start time\n",
    "grid_lra = {'clf__C': np.logspace(-2, 1, 100), # We will narrow our search around the selected value, and use a much finer grid\n",
    "       'clf__max_iter': np.linspace(1000,10000,10)}\n",
    "\n",
    "# Gridsearch CV\n",
    "clf_lr2 = GridSearchCV(estimator, grid_lra, cv = 5, scoring = 'f1', n_jobs = -1)\n",
    "clf_lr2.fit(X_train, y_train)\n",
    "end = time.time() # record end time\n",
    "print('Tuning time in seconds:',end-start)\n",
    "\n",
    "print(\"Refined hyperparameters are\",clf_lr2.best_params_)"
   ]
  },
  {
   "cell_type": "code",
   "execution_count": 9,
   "metadata": {},
   "outputs": [
    {
     "name": "stdout",
     "output_type": "stream",
     "text": [
      "Tuning time in seconds: 8.830337524414062\n",
      "Best Alpha is {'ccp_alpha': 0.01}\n"
     ]
    }
   ],
   "source": [
    "#    ******** Method 2 : Decision Tree ******** \n",
    "# Train and tune Decision Tree\n",
    "\n",
    "#from sklearn.tree import DecisionTreeClassifier\n",
    "\n",
    "start = time.time() # record start time\n",
    "tree_clf =  DecisionTreeClassifier(random_state= 1,min_samples_leaf = 5) # dont need to scale data so have one input\n",
    "grid_dt = {'ccp_alpha': np.logspace(-2, 1, 100)} \n",
    "        \n",
    "# Gridsearch CV\n",
    "clf_dt = GridSearchCV(tree_clf, grid_dt, cv = 5, scoring = 'f1', n_jobs = -1)\n",
    "clf_dt.fit(X_train, y_train)\n",
    "end = time.time() # record end time\n",
    "print('Tuning time in seconds:',end-start)\n",
    "\n",
    "print(\"Best Alpha is\",clf_dt.best_params_)"
   ]
  },
  {
   "cell_type": "code",
   "execution_count": 10,
   "metadata": {},
   "outputs": [
    {
     "name": "stdout",
     "output_type": "stream",
     "text": [
      "Tuning time in seconds: 2269.7653517723083\n",
      "Best estimator(or number of trees) is {'max_depth': 7, 'n_estimators': 147}\n"
     ]
    }
   ],
   "source": [
    "#    ******** Method 3 : Bagged Tree ******** \n",
    "# Train and tune Bagged Tree\n",
    "# In bagging all features are used in each split\n",
    "\n",
    "start = time.time() # record start time\n",
    "bg_clf =  RandomForestClassifier(random_state= 1,min_samples_leaf = 5,max_features=None)\n",
    "grid_bt = {'n_estimators': np.linspace(100,1000,20, dtype = int),\n",
    "           'max_depth':range(2, 10)}\n",
    "\n",
    "# Gridsearch CV\n",
    "clf_bg = GridSearchCV(bg_clf, grid_bt, cv = 5, scoring = 'f1', n_jobs = -1)\n",
    "clf_bg.fit(X_train, y_train)\n",
    "end = time.time() # record end time\n",
    "print('Tuning time in seconds:',end-start)\n",
    "\n",
    "print(\"Best estimator(or number of trees) is\",clf_bg.best_params_)"
   ]
  },
  {
   "cell_type": "code",
   "execution_count": 11,
   "metadata": {},
   "outputs": [
    {
     "name": "stdout",
     "output_type": "stream",
     "text": [
      "Tuning time in seconds: 93.29063391685486\n",
      "Best hyper parameters are {'max_features': 'sqrt', 'n_estimators': 100}\n"
     ]
    }
   ],
   "source": [
    "#    ******** Method 4 : Random Forest ******** \n",
    "# Train and tune Random Forest\n",
    "# In Random Forest add random subspace method all features are used in each split\n",
    "\n",
    "start = time.time() # record start time\n",
    "rf_clf = RandomForestClassifier(random_state= 1,min_samples_leaf = 5)\n",
    "grid_rt = {'n_estimators': np.linspace(100, 1000, 10, dtype = int),'max_features':['sqrt','log2'] }\n",
    "\n",
    "# Gridsearch CV\n",
    "clf_rt = GridSearchCV(rf_clf, grid_rt, cv = 5, n_jobs = -1, scoring = 'f1')\n",
    "clf_rt.fit(X_train, y_train)\n",
    "end = time.time() # record end time\n",
    "print('Tuning time in seconds:',end-start)\n",
    "\n",
    "print(\"Best hyper parameters are\",clf_rt.best_params_)"
   ]
  },
  {
   "cell_type": "code",
   "execution_count": 12,
   "metadata": {},
   "outputs": [
    {
     "name": "stdout",
     "output_type": "stream",
     "text": [
      "Tuning time in seconds: 567.5045502185822\n",
      "Best hyper parameters are {'learning_rate': 0.05500000000000001, 'n_estimators': 200}\n"
     ]
    }
   ],
   "source": [
    "#    ******** Method 5 : Boosted Trees ******** \n",
    "# Train and tune Boosted Trees\n",
    "\n",
    "start = time.time() # record start time\n",
    "bt_clf = GradientBoostingClassifier(random_state= 1,min_samples_leaf = 5)\n",
    "grid_bt = {'n_estimators': np.linspace(100, 1000, 10, dtype = int),'learning_rate': np.linspace(0.01,0.1,5)}\n",
    "\n",
    "# Gridsearch CV\n",
    "clf_bt = GridSearchCV(bt_clf, grid_bt, cv = 5, n_jobs = -1, scoring = 'f1')\n",
    "clf_bt.fit(X_train, y_train)\n",
    "end = time.time() # record end time\n",
    "print('Tuning time in seconds:',end-start)\n",
    "\n",
    "print(\"Best hyper parameters are\",clf_bt.best_params_)"
   ]
  },
  {
   "cell_type": "markdown",
   "metadata": {},
   "source": [
    "Perform prediction on all 5 models using the holdout set, and report the F1 score."
   ]
  },
  {
   "cell_type": "code",
   "execution_count": 13,
   "metadata": {},
   "outputs": [
    {
     "name": "stdout",
     "output_type": "stream",
     "text": [
      "f1 scores on the test set are:\n",
      "Logistic Regression 0.898876404494382\n",
      "Decision Tree       0.8614232209737829\n",
      "Bagging             0.8856088560885609\n",
      "Random Forest       0.8913857677902622\n",
      "Boosting            0.8905109489051095\n"
     ]
    }
   ],
   "source": [
    "#from sklearn.metrics import f1_score\n",
    "print(\"f1 scores on the test set are:\")\n",
    "print(\"Logistic Regression\",f1_score(y_test,clf_lr2.predict(X_test)))\n",
    "print(\"Decision Tree      \",f1_score(y_test,clf_dt.predict(X_test)))\n",
    "print(\"Bagging            \",f1_score(y_test,clf_bg.predict(X_test)))\n",
    "print(\"Random Forest      \",f1_score(y_test,clf_rt.predict(X_test)))\n",
    "print(\"Boosting           \",f1_score(y_test,clf_bt.predict(X_test)))"
   ]
  },
  {
   "cell_type": "markdown",
   "metadata": {},
   "source": [
    "**Observation**  \n",
    "**Logistic regression model** has the best performance, followed by **Random Forest** then **Boosting** and **Bagging**. Also, the time taken by Bagged tree and Boosting is the most but Logistic Regression is quite low comparatively yet providing a better f1 score.\n",
    "As expected, a single **Decision Tree** doesn't perform too well and gives lowest f1 score out of the five."
   ]
  },
  {
   "cell_type": "markdown",
   "metadata": {},
   "source": [
    "ROC curve is a good method to use when comparing multiple classification algorithms.\n",
    "Therefore, plotting the ROC curves of these 5 classifiers on the same graph:"
   ]
  },
  {
   "cell_type": "code",
   "execution_count": 14,
   "metadata": {},
   "outputs": [
    {
     "data": {
      "image/png": "[encoded data removed]",
      "text/plain": [
       "<Figure size 432x288 with 1 Axes>"
      ]
     },
     "metadata": {
      "needs_background": "light"
     },
     "output_type": "display_data"
    }
   ],
   "source": [
    "# ROC Curves\n",
    "\n",
    "# get y_score values\n",
    "y_prob1 = clf_lr2.predict_proba(X_test)[:,1]\n",
    "y_prob2 = clf_dt.predict_proba(X_test)[:,1]\n",
    "y_prob3 = clf_bg.predict_proba(X_test)[:,1]\n",
    "y_prob4 = clf_rt.predict_proba(X_test)[:,1]\n",
    "y_prob5 = clf_bt.predict_proba(X_test)[:,1]\n",
    "\n",
    "# Setup ROC curve, y_true vs y_score\n",
    "vals1 = roc_curve(y_test, y_prob1, pos_label = 1) \n",
    "vals2 = roc_curve(y_test, y_prob2, pos_label = 1) \n",
    "vals3 = roc_curve(y_test, y_prob3, pos_label = 1)\n",
    "vals4 = roc_curve(y_test, y_prob4, pos_label = 1)\n",
    "vals5 = roc_curve(y_test, y_prob5, pos_label = 1)\n",
    "\n",
    "# plot graph for all methods\n",
    "plt.plot(vals1[0], vals1[1],color = 'b', label = 'Logistic Reg')\n",
    "plt.plot(vals2[0], vals2[1],color = 'g', label = 'Decision Tree')\n",
    "plt.plot(vals3[0], vals3[1],color = 'r', label = 'Bagging')\n",
    "plt.plot(vals4[0], vals4[1],color = 'c', label = 'RandomForest')\n",
    "plt.plot(vals5[0], vals5[1],color = 'm', label = 'Boosting')\n",
    "\n",
    "# plt.ylim(0.7,1.01) # Zoom in to see overlapping lines closely but no help and need AUC score\n",
    "\n",
    "# add labels\n",
    "plt.xlabel('False Positive Rate')\n",
    "plt.ylabel('True Positive Rate')\n",
    "plt.title('ROC Curve')\n",
    "plt.legend()\n",
    "plt.show()"
   ]
  },
  {
   "cell_type": "markdown",
   "metadata": {},
   "source": [
    "**Observation**  \n",
    "The ROC curves show that Decision Tree has minimum area under curve (diagonal line worst scenario because it is as good as guessing). The other 4 methods perform much better and it is observed that the area is somewhere between 0.8 to 1 for all of them. AUC score will give a better idea about the maximum area under curve which is an indicator of the best model."
   ]
  },
  {
   "cell_type": "code",
   "execution_count": 15,
   "metadata": {},
   "outputs": [
    {
     "name": "stdout",
     "output_type": "stream",
     "text": [
      "AUC Scores are:\n",
      "Logistic Reg:  0.9668288087538611\n",
      "Decision Tree: 0.8878275677781098\n",
      "Bagging:       0.9656874733914871\n",
      "Random Forest: 0.9640479360852197\n",
      "Boosting:      0.9753707075373423\n"
     ]
    }
   ],
   "source": [
    "# AUC values\n",
    "print (\"AUC Scores are:\")\n",
    "print(\"Logistic Reg: \", roc_auc_score(y_test, y_prob1))\n",
    "print(\"Decision Tree:\", roc_auc_score(y_test, y_prob2))\n",
    "print(\"Bagging:      \", roc_auc_score(y_test, y_prob3))\n",
    "print(\"Random Forest:\", roc_auc_score(y_test, y_prob4))\n",
    "print(\"Boosting:     \", roc_auc_score(y_test, y_prob5))"
   ]
  },
  {
   "cell_type": "markdown",
   "metadata": {},
   "source": [
    "**Observation**  \n",
    "Model with largest Area Under Curve(AUC) is the best classification model.Boosting gives the best score out of all for the classification model.\n",
    "Although the scoring is very close, the order of best classification as per AUC score is **Boosting** followed by **Logistic Regression** then **Bagging** and then **Random Forest**.\n",
    "**Decision Tree** still has the lowest AUC (As seen in the graph as well)."
   ]
  },
  {
   "cell_type": "code",
   "execution_count": 16,
   "metadata": {},
   "outputs": [
    {
     "name": "stdout",
     "output_type": "stream",
     "text": [
      "Final Confusion Matrix \n",
      " [[122  25]\n",
      " [  5 746]]\n"
     ]
    }
   ],
   "source": [
    "# Confusion matrix\n",
    "from sklearn.metrics import confusion_matrix # create confusion matrix\n",
    "\n",
    "yhat = clf_bt.predict(X_test)\n",
    "confmat = confusion_matrix(y_true= y_test, y_pred= yhat, labels = [1,0])       \n",
    "print(\"Final Confusion Matrix \\n\",confmat)"
   ]
  },
  {
   "cell_type": "markdown",
   "metadata": {},
   "source": [
    "**Conclusion**  \n",
    "Model selection based on f1 score and AUC score give different results because their criteria for a good model are different.\n",
    "\n",
    "f1 does not take the true negatives into account and is a measure of precision and recall at a particular threshold value. High \n",
    "f1 implies both precision and recall are high.\n",
    "\n",
    "f1-score： 2/(1/P+1/R) where  \n",
    "Precision: TP/(TP+FP)  \n",
    "Recall: TP/(TP+FN)\n",
    "\n",
    "ROC/AUC： TPR=TP/(TP+FN), FPR=FP/(FP+TN)\n",
    "\n",
    "For data like this as fraud detection, the positive examples(frauds) have relatively low rates of occurrence.\n",
    "Due to this unbalance in data f1 score gets affected but not ROC/AUC. With imbalanced data, the AUC still gives value around 0.8. However, it is high due to large FP, rather than the large TP (True positive).\n",
    "Therefore, f1 is a better evaluation metric in this case.\n",
    "Roc/Auc is good with balanced distribution of positives and negatives in dataset."
   ]
  },
  {
   "cell_type": "code",
   "execution_count": null,
   "metadata": {},
   "outputs": [],
   "source": []
  }
 ],
 "metadata": {
  "kernelspec": {
   "display_name": "Python 3",
   "language": "python",
   "name": "python3"
  },
  "language_info": {
   "codemirror_mode": {
    "name": "ipython",
    "version": 3
   },
   "file_extension": ".py",
   "mimetype": "text/x-python",
   "name": "python",
   "nbconvert_exporter": "python",
   "pygments_lexer": "ipython3",
   "version": "3.7.4"
  }
 },
 "nbformat": 4,
 "nbformat_minor": 2
}
